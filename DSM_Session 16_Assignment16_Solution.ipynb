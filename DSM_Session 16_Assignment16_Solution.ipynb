{
 "cells": [
  {
   "cell_type": "markdown",
   "metadata": {},
   "source": [
    "# Data Science Masters :Assignment 15"
   ]
  },
  {
   "cell_type": "raw",
   "metadata": {},
   "source": [
    "Problem Statement 1:\n",
    "A test is conducted which is consisting of 20 MCQs (multiple choices questions) with every MCQ having its four options out of which only one is correct. Determine the probability that a person undertaking that test has answered exactly 5 questions wrong.\n",
    "\n",
    "# Solution\n",
    "Total Ques = 20 \n",
    "Here the probability of success = probability of giving a right answer = S = 1/4\n",
    "Hence, the probability of failure = probability of giving a wrong answer = 1 - s = 1 - 1/4 = 3/4\n",
    "\n",
    "Using Binomial Distribution: \n",
    "\n",
    "P[X=r] = N C  * (P)^r (Q)^(N-r)\n",
    "            r\n",
    "            \n",
    "So, P (exactly 5 out of 20 answers incorrect) =  20 C  * (3/4)^5  * (1/4)^15 \n",
    "                                                     5\n",
    "     \n",
    "     =   20!               15         5\n",
    "     ------------- x (0.25)   x (0.75)\n",
    "     (15!(20−15)!)\n",
    "     \n",
    "     = 0.0000034265\n",
    "\n",
    "Thus the required probability is 0.0000034 approximately.     "
   ]
  },
  {
   "cell_type": "code",
   "execution_count": 28,
   "metadata": {},
   "outputs": [
    {
     "name": "stdout",
     "output_type": "stream",
     "text": [
      "3.4264958230778435e-06\n"
     ]
    }
   ],
   "source": [
    "#Using scipy function to cross verify the solution #1...\n",
    "from scipy.stats import binom\n",
    "n = 20\n",
    "p = 0.75\n",
    "binomial = binom.pmf(5,n,p)\n",
    "print(binomial)"
   ]
  },
  {
   "cell_type": "raw",
   "metadata": {},
   "source": [
    "Problem Statement 2:\n",
    "A die marked A to E is rolled 50 times. Find the probability of getting a “D” exactly 5 times.\n",
    "\n",
    "# Solution\n",
    "Probability of getting D (success) = s= 1/5 \n",
    "Probability of not getting D (failure) = 1-s = 1-1/5 = 4/5\n",
    "N = 50 \n",
    "\n",
    "Using Binomial Distribution\n",
    "So, P (getting exactly \"D\" 5 times) =  50 C x (1/5)^5 x (4/5)^45\n",
    "                                           5\n",
    "\n",
    "     =   50!                5         45\n",
    "       ------------- x (0.2)   x (0.8)\n",
    "       (5!(50−5)!)\n",
    "       \n",
    "     =  0.029531204310523224"
   ]
  },
  {
   "cell_type": "code",
   "execution_count": 27,
   "metadata": {},
   "outputs": [
    {
     "name": "stdout",
     "output_type": "stream",
     "text": [
      "0.029531204310523224\n"
     ]
    }
   ],
   "source": [
    "#Using scipy function to cross verify the solution #2.....\n",
    "from scipy.stats import binom\n",
    "n = 50\n",
    "p = 0.2\n",
    "binomial = binom.pmf(5,n,p)\n",
    "print(binomial)"
   ]
  },
  {
   "cell_type": "raw",
   "metadata": {},
   "source": [
    "Problem Statement 3:\n",
    "Two balls are drawn at random in succession without replacement from an urn containing 4 red balls and 6 black balls.\n",
    "Find the probabilities of all the possible outcomes.\n",
    "\n",
    "# Solution\n",
    "Total balls in an urn =  10\n",
    "Probability of getting Red Ball (RB) = 4/10\n",
    "Probability of getting Black Ball (BB) = 6/10 \n",
    "\n",
    "Possible outcomes\n",
    "\n",
    "P(RR) = 4/10 * 3/9 = 0.4 * 0.333333 = 0.13333\n",
    "\n",
    "P(RB) = 4/10 * 6/9 = 0.4 * 0.666666 = 0.26666\n",
    "\n",
    "P(BR) = 6/10 * 4/9 = 0.6 * 0.444444 = 0.26666\n",
    "\n",
    "P(BB) = 6/10 * 5/9 = 0.6 * 0.555555 = 0.33333\n"
   ]
  }
 ],
 "metadata": {
  "kernelspec": {
   "display_name": "Python 3",
   "language": "python",
   "name": "python3"
  },
  "language_info": {
   "codemirror_mode": {
    "name": "ipython",
    "version": 3
   },
   "file_extension": ".py",
   "mimetype": "text/x-python",
   "name": "python",
   "nbconvert_exporter": "python",
   "pygments_lexer": "ipython3",
   "version": "3.6.5"
  }
 },
 "nbformat": 4,
 "nbformat_minor": 2
}
